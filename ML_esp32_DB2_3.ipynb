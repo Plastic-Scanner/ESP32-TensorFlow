{
  "nbformat": 4,
  "nbformat_minor": 0,
  "metadata": {
    "colab": {
      "provenance": [],
      "collapsed_sections": [
        "j7DO6xxXVCym"
      ]
    },
    "kernelspec": {
      "name": "python3",
      "display_name": "Python 3"
    },
    "language_info": {
      "name": "python"
    }
  },
  "cells": [
    {
      "cell_type": "markdown",
      "source": [
        "original here: https://colab.research.google.com/github/arduino/ArduinoTensorFlowLiteTutorials/blob/master/GestureToEmoji/arduino_tinyml_workshop.ipynb\n"
      ],
      "metadata": {
        "id": "7Yi6WbVLPnDz"
      }
    },
    {
      "cell_type": "markdown",
      "source": [
        "##Variables"
      ],
      "metadata": {
        "id": "tvt_FEsvRKLR"
      }
    },
    {
      "cell_type": "code",
      "source": [
        "# URL = \"https://raw.githubusercontent.com/Plastic-Scanner/data/main/data/20230913_DB2.3_first_dataset_lasercut/measurement.csv\"\n",
        "URL = \"https://raw.githubusercontent.com/Plastic-Scanner/data/main/data/20230919_DB2.3_third_dataset_lasercut/measurement.csv\"\n",
        "TooBright = 1.4\n",
        "TooDark = 0.6"
      ],
      "metadata": {
        "id": "w7T1DxJYRI0h"
      },
      "execution_count": null,
      "outputs": []
    },
    {
      "cell_type": "markdown",
      "source": [
        "##Setup"
      ],
      "metadata": {
        "id": "oIZx0-6zPyjw"
      }
    },
    {
      "cell_type": "code",
      "execution_count": null,
      "metadata": {
        "id": "cFfrZTDJPiYh"
      },
      "outputs": [],
      "source": [
        "import pandas as pd\n",
        "import matplotlib.pyplot as plt\n",
        "import numpy as np\n",
        "import tensorflow as tf"
      ]
    },
    {
      "cell_type": "markdown",
      "source": [
        "##Preprocess"
      ],
      "metadata": {
        "id": "jIu-TIp8Semj"
      }
    },
    {
      "cell_type": "code",
      "source": [
        "df_raw = pd.read_csv(URL)\n",
        "df = df_raw.loc[:, :'nm1720'] #drop all later columns\n",
        "#df"
      ],
      "metadata": {
        "id": "KIYdOChfP2VZ"
      },
      "execution_count": null,
      "outputs": []
    },
    {
      "cell_type": "code",
      "source": [
        "#make a new dataframe with only the ones that have MeasurementType as \"calibration\" or PlasticType as \"reference\"\n",
        "df_ref = df[(df['MeasurementType'] == 'calibration')]\n",
        "#df_ref"
      ],
      "metadata": {
        "id": "zqLWBvHBQJ3t"
      },
      "execution_count": null,
      "outputs": []
    },
    {
      "cell_type": "code",
      "source": [
        "PLASTICTYPES = df['PlasticType'].unique()\n",
        "print(PLASTICTYPES)"
      ],
      "metadata": {
        "colab": {
          "base_uri": "https://localhost:8080/"
        },
        "id": "1WRoovzw5CJK",
        "outputId": "1b7ce0b5-808d-49da-b83c-f3172aaa04c5"
      },
      "execution_count": null,
      "outputs": [
        {
          "output_type": "stream",
          "name": "stdout",
          "text": [
            "['unknown' 'reference' 'PMMA' 'PS' 'PET' 'PC' 'LDPE' 'PP' 'PVC']\n"
          ]
        }
      ]
    },
    {
      "cell_type": "code",
      "source": [
        "plastics_to_train = ['PMMA','PS','PC','PET']\n",
        "df['PlasticType'] = df['PlasticType'].apply(lambda x: x if x in plastics_to_train else 'other')"
      ],
      "metadata": {
        "id": "ROL0wUXd5YSo"
      },
      "execution_count": null,
      "outputs": []
    },
    {
      "cell_type": "code",
      "source": [
        "PLASTICTYPES = df['PlasticType'].unique()\n",
        "print(PLASTICTYPES)"
      ],
      "metadata": {
        "colab": {
          "base_uri": "https://localhost:8080/"
        },
        "id": "z-aicMq85k79",
        "outputId": "a4589ba4-cc02-46a4-dbca-62bff18c1fa0"
      },
      "execution_count": null,
      "outputs": [
        {
          "output_type": "stream",
          "name": "stdout",
          "text": [
            "['other' 'PMMA' 'PS' 'PET' 'PC']\n"
          ]
        }
      ]
    },
    {
      "cell_type": "code",
      "source": [
        "#make a new dataframe called df_norm that devides the columns from 'nm940' to 'nm1720' of the original dataframe by the mean values of the columns from 'nm940' to 'nm1720' in the df2 dataframe\n",
        "# while keeping the columns untill 'DateTime' from the original dataframe\n",
        "df_norm = df\n",
        "df_norm.loc[:, 'nm940':'nm1720'] = df.loc[:, 'nm940':'nm1720'].div((df_ref.loc[:, 'nm940':'nm1720'].mean()))\n",
        "#df_norm"
      ],
      "metadata": {
        "id": "iL-TipNBQXGf"
      },
      "execution_count": null,
      "outputs": []
    },
    {
      "cell_type": "code",
      "source": [
        "# go through the df_norm dataframe and delete all the rows that have a value that is smaller than \"TooDark\"value in the column \"nm940\" and bigger than \"TooBright\" value in the column \"nm940\"\n",
        "df_norm = df_norm[(df_norm['nm940'] < TooBright) & (df_norm['nm940'] > TooDark)]\n",
        "#df_norm"
      ],
      "metadata": {
        "id": "k98DU5xVQtlx"
      },
      "execution_count": null,
      "outputs": []
    },
    {
      "cell_type": "code",
      "source": [
        "#make a new dataframe called df_snv that does and SNV transformation for each of the rows from 'nm940' to 'nm1720' of the df_norm dataframe\n",
        "# while keeping the columns untill 'DateTime' from the original dataframe\n",
        "df_snv = df_norm\n",
        "df_snv.loc[:, 'nm940':'nm1720'] = df_norm.loc[:, 'nm940':'nm1720'].sub(df_norm.loc[:, 'nm940':'nm1720'].mean(axis=1), axis=0).div(df_norm.loc[:, 'nm940':'nm1720'].std(axis=1), axis=0)\n",
        "#df_snv"
      ],
      "metadata": {
        "id": "fIEIHHZDQ2bo"
      },
      "execution_count": null,
      "outputs": []
    },
    {
      "cell_type": "code",
      "source": [
        "df_snv = df_snv.drop(0, axis=0)"
      ],
      "metadata": {
        "id": "FZCL45qFT855"
      },
      "execution_count": null,
      "outputs": []
    },
    {
      "cell_type": "markdown",
      "source": [
        "##Train neural network"
      ],
      "metadata": {
        "id": "rcX7iqmmSihS"
      }
    },
    {
      "cell_type": "code",
      "source": [
        "print(f\"TensorFlow version = {tf.__version__}\\n\")\n",
        "\n",
        "# Set a fixed random seed value, for reproducibility, this will allow us to get\n",
        "# the same random numbers each time the notebook is run\n",
        "SEED = 1337\n",
        "np.random.seed(SEED)\n",
        "tf.random.set_seed(SEED)\n",
        "\n",
        "# the list of gestures that data is available for\n",
        "PLASTICTYPES = df_snv['PlasticType'].unique()\n",
        "NUM_PLASTICTYPES = len(df_snv['PlasticType'].unique())\n",
        "print(PLASTICTYPES)\n",
        "\n",
        "# Create empty NumPy arrays\n",
        "outputs = []\n",
        "inputs = []\n",
        "\n",
        "# create a one-hot encoded matrix that is used in the output\n",
        "ONE_HOT_ENCODED_PLASTICS = np.eye(NUM_PLASTICTYPES)\n",
        "# Iterate over the DataFrame\n",
        "for row in df_snv.itertuples():\n",
        "    # Add the value in the 'PlasticType' column to the outputs array\n",
        "    #outputs = ONE_HOT_ENCODED_GESTURES[]\n",
        "    for i in range(NUM_PLASTICTYPES):\n",
        "      if PLASTICTYPES[i] == row[3]:\n",
        "        output = ONE_HOT_ENCODED_PLASTICS[i]\n",
        "    outputs.append(output)\n",
        "    # Create an array of the values from the column 'nm940' till 'nm1720'\n",
        "    input_array = row[7:15]\n",
        "\n",
        "    # Add the array to the input array\n",
        "    inputs.append(input_array)\n",
        "\n",
        "print('outputs:', len(outputs))\n",
        "print('inputs:', len(inputs))\n",
        "inputs = np.array(inputs)\n",
        "outputs = np.array(outputs)\n",
        "print(\"Data set parsing and preparation complete.\")"
      ],
      "metadata": {
        "colab": {
          "base_uri": "https://localhost:8080/"
        },
        "id": "HdscVwFDTLtJ",
        "outputId": "8a5ee58e-2eef-4c2d-eec5-49b1d5411725"
      },
      "execution_count": null,
      "outputs": [
        {
          "output_type": "stream",
          "name": "stdout",
          "text": [
            "TensorFlow version = 2.13.0\n",
            "\n",
            "['other' 'PMMA' 'PS' 'PET' 'PC']\n",
            "outputs: 79\n",
            "inputs: 79\n",
            "Data set parsing and preparation complete.\n"
          ]
        }
      ]
    },
    {
      "cell_type": "code",
      "source": [
        "df_snv"
      ],
      "metadata": {
        "colab": {
          "base_uri": "https://localhost:8080/",
          "height": 424
        },
        "id": "EkqiDssG-Jb_",
        "outputId": "deb9b6ba-1cf3-4f4d-e9aa-2f44fe27bd61"
      },
      "execution_count": null,
      "outputs": [
        {
          "output_type": "execute_result",
          "data": {
            "text/plain": [
              "    Reading      Name PlasticType        Color MeasurementType  \\\n",
              "1         1       ref       other        white         regular   \n",
              "2         2       ref       other        white         regular   \n",
              "3         3       ref       other        white         regular   \n",
              "4         4       ref       other        white         regular   \n",
              "5         5       ref       other        white         regular   \n",
              "..      ...       ...         ...          ...             ...   \n",
              "75       75  cover pp       other  transparent         regular   \n",
              "76       76   pvc zak       other  transparent         regular   \n",
              "77       77   pvc zak       other  transparent         regular   \n",
              "78       78   pvc zak       other  transparent         regular   \n",
              "79       79   pvc zak       other  transparent         regular   \n",
              "\n",
              "                      DateTime     nm940    nm1050    nm1200    nm1300  \\\n",
              "1   2023-09-19 11:48:52.332598  0.329222 -0.352322 -0.816101  0.709973   \n",
              "2   2023-09-19 11:48:53.770032 -0.466399  0.416297  0.160382  0.851503   \n",
              "3   2023-09-19 11:48:55.036030  1.418227  1.113357 -0.367671 -0.083043   \n",
              "4   2023-09-19 11:48:56.098023  1.434163  1.210089  0.071553  0.059864   \n",
              "5   2023-09-19 11:48:57.060673  1.360976  1.482465 -0.109105  0.420116   \n",
              "..                         ...       ...       ...       ...       ...   \n",
              "75  2023-09-19 11:56:46.744442  1.048145  1.575791 -1.165614  0.431383   \n",
              "76  2023-09-19 11:57:11.139824  0.648428  0.321821  1.669458  0.579282   \n",
              "77  2023-09-19 11:57:12.581186  0.337890  0.378754  1.682097  0.718111   \n",
              "78  2023-09-19 11:57:13.886696  0.339517  0.304358  1.758539  0.645041   \n",
              "79  2023-09-19 11:57:15.230687  0.464074  0.233918  1.773345  0.614929   \n",
              "\n",
              "      nm1450    nm1550    nm1650    nm1720  \n",
              "1  -1.759258  0.076590  1.559807  0.252089  \n",
              "2   0.606238  0.397440  0.321376 -2.286837  \n",
              "3  -0.693870  0.541886 -0.267452 -1.661434  \n",
              "4  -0.664832 -0.385263 -0.028844 -1.696731  \n",
              "5  -0.892297 -0.589146 -1.167318 -0.505691  \n",
              "..       ...       ...       ...       ...  \n",
              "75 -1.053872  0.030183  0.006866 -0.872883  \n",
              "76 -0.985789 -0.261991 -0.555453 -1.415757  \n",
              "77 -1.003172 -0.193811 -0.454776 -1.465094  \n",
              "78 -1.082087 -0.288844 -0.279761 -1.396763  \n",
              "79 -0.997153 -0.242494 -0.449543 -1.397076  \n",
              "\n",
              "[79 rows x 14 columns]"
            ],
            "text/html": [
              "\n",
              "  <div id=\"df-0fa54357-703e-4e5e-b8fe-faa5260c7dbc\" class=\"colab-df-container\">\n",
              "    <div>\n",
              "<style scoped>\n",
              "    .dataframe tbody tr th:only-of-type {\n",
              "        vertical-align: middle;\n",
              "    }\n",
              "\n",
              "    .dataframe tbody tr th {\n",
              "        vertical-align: top;\n",
              "    }\n",
              "\n",
              "    .dataframe thead th {\n",
              "        text-align: right;\n",
              "    }\n",
              "</style>\n",
              "<table border=\"1\" class=\"dataframe\">\n",
              "  <thead>\n",
              "    <tr style=\"text-align: right;\">\n",
              "      <th></th>\n",
              "      <th>Reading</th>\n",
              "      <th>Name</th>\n",
              "      <th>PlasticType</th>\n",
              "      <th>Color</th>\n",
              "      <th>MeasurementType</th>\n",
              "      <th>DateTime</th>\n",
              "      <th>nm940</th>\n",
              "      <th>nm1050</th>\n",
              "      <th>nm1200</th>\n",
              "      <th>nm1300</th>\n",
              "      <th>nm1450</th>\n",
              "      <th>nm1550</th>\n",
              "      <th>nm1650</th>\n",
              "      <th>nm1720</th>\n",
              "    </tr>\n",
              "  </thead>\n",
              "  <tbody>\n",
              "    <tr>\n",
              "      <th>1</th>\n",
              "      <td>1</td>\n",
              "      <td>ref</td>\n",
              "      <td>other</td>\n",
              "      <td>white</td>\n",
              "      <td>regular</td>\n",
              "      <td>2023-09-19 11:48:52.332598</td>\n",
              "      <td>0.329222</td>\n",
              "      <td>-0.352322</td>\n",
              "      <td>-0.816101</td>\n",
              "      <td>0.709973</td>\n",
              "      <td>-1.759258</td>\n",
              "      <td>0.076590</td>\n",
              "      <td>1.559807</td>\n",
              "      <td>0.252089</td>\n",
              "    </tr>\n",
              "    <tr>\n",
              "      <th>2</th>\n",
              "      <td>2</td>\n",
              "      <td>ref</td>\n",
              "      <td>other</td>\n",
              "      <td>white</td>\n",
              "      <td>regular</td>\n",
              "      <td>2023-09-19 11:48:53.770032</td>\n",
              "      <td>-0.466399</td>\n",
              "      <td>0.416297</td>\n",
              "      <td>0.160382</td>\n",
              "      <td>0.851503</td>\n",
              "      <td>0.606238</td>\n",
              "      <td>0.397440</td>\n",
              "      <td>0.321376</td>\n",
              "      <td>-2.286837</td>\n",
              "    </tr>\n",
              "    <tr>\n",
              "      <th>3</th>\n",
              "      <td>3</td>\n",
              "      <td>ref</td>\n",
              "      <td>other</td>\n",
              "      <td>white</td>\n",
              "      <td>regular</td>\n",
              "      <td>2023-09-19 11:48:55.036030</td>\n",
              "      <td>1.418227</td>\n",
              "      <td>1.113357</td>\n",
              "      <td>-0.367671</td>\n",
              "      <td>-0.083043</td>\n",
              "      <td>-0.693870</td>\n",
              "      <td>0.541886</td>\n",
              "      <td>-0.267452</td>\n",
              "      <td>-1.661434</td>\n",
              "    </tr>\n",
              "    <tr>\n",
              "      <th>4</th>\n",
              "      <td>4</td>\n",
              "      <td>ref</td>\n",
              "      <td>other</td>\n",
              "      <td>white</td>\n",
              "      <td>regular</td>\n",
              "      <td>2023-09-19 11:48:56.098023</td>\n",
              "      <td>1.434163</td>\n",
              "      <td>1.210089</td>\n",
              "      <td>0.071553</td>\n",
              "      <td>0.059864</td>\n",
              "      <td>-0.664832</td>\n",
              "      <td>-0.385263</td>\n",
              "      <td>-0.028844</td>\n",
              "      <td>-1.696731</td>\n",
              "    </tr>\n",
              "    <tr>\n",
              "      <th>5</th>\n",
              "      <td>5</td>\n",
              "      <td>ref</td>\n",
              "      <td>other</td>\n",
              "      <td>white</td>\n",
              "      <td>regular</td>\n",
              "      <td>2023-09-19 11:48:57.060673</td>\n",
              "      <td>1.360976</td>\n",
              "      <td>1.482465</td>\n",
              "      <td>-0.109105</td>\n",
              "      <td>0.420116</td>\n",
              "      <td>-0.892297</td>\n",
              "      <td>-0.589146</td>\n",
              "      <td>-1.167318</td>\n",
              "      <td>-0.505691</td>\n",
              "    </tr>\n",
              "    <tr>\n",
              "      <th>...</th>\n",
              "      <td>...</td>\n",
              "      <td>...</td>\n",
              "      <td>...</td>\n",
              "      <td>...</td>\n",
              "      <td>...</td>\n",
              "      <td>...</td>\n",
              "      <td>...</td>\n",
              "      <td>...</td>\n",
              "      <td>...</td>\n",
              "      <td>...</td>\n",
              "      <td>...</td>\n",
              "      <td>...</td>\n",
              "      <td>...</td>\n",
              "      <td>...</td>\n",
              "    </tr>\n",
              "    <tr>\n",
              "      <th>75</th>\n",
              "      <td>75</td>\n",
              "      <td>cover pp</td>\n",
              "      <td>other</td>\n",
              "      <td>transparent</td>\n",
              "      <td>regular</td>\n",
              "      <td>2023-09-19 11:56:46.744442</td>\n",
              "      <td>1.048145</td>\n",
              "      <td>1.575791</td>\n",
              "      <td>-1.165614</td>\n",
              "      <td>0.431383</td>\n",
              "      <td>-1.053872</td>\n",
              "      <td>0.030183</td>\n",
              "      <td>0.006866</td>\n",
              "      <td>-0.872883</td>\n",
              "    </tr>\n",
              "    <tr>\n",
              "      <th>76</th>\n",
              "      <td>76</td>\n",
              "      <td>pvc zak</td>\n",
              "      <td>other</td>\n",
              "      <td>transparent</td>\n",
              "      <td>regular</td>\n",
              "      <td>2023-09-19 11:57:11.139824</td>\n",
              "      <td>0.648428</td>\n",
              "      <td>0.321821</td>\n",
              "      <td>1.669458</td>\n",
              "      <td>0.579282</td>\n",
              "      <td>-0.985789</td>\n",
              "      <td>-0.261991</td>\n",
              "      <td>-0.555453</td>\n",
              "      <td>-1.415757</td>\n",
              "    </tr>\n",
              "    <tr>\n",
              "      <th>77</th>\n",
              "      <td>77</td>\n",
              "      <td>pvc zak</td>\n",
              "      <td>other</td>\n",
              "      <td>transparent</td>\n",
              "      <td>regular</td>\n",
              "      <td>2023-09-19 11:57:12.581186</td>\n",
              "      <td>0.337890</td>\n",
              "      <td>0.378754</td>\n",
              "      <td>1.682097</td>\n",
              "      <td>0.718111</td>\n",
              "      <td>-1.003172</td>\n",
              "      <td>-0.193811</td>\n",
              "      <td>-0.454776</td>\n",
              "      <td>-1.465094</td>\n",
              "    </tr>\n",
              "    <tr>\n",
              "      <th>78</th>\n",
              "      <td>78</td>\n",
              "      <td>pvc zak</td>\n",
              "      <td>other</td>\n",
              "      <td>transparent</td>\n",
              "      <td>regular</td>\n",
              "      <td>2023-09-19 11:57:13.886696</td>\n",
              "      <td>0.339517</td>\n",
              "      <td>0.304358</td>\n",
              "      <td>1.758539</td>\n",
              "      <td>0.645041</td>\n",
              "      <td>-1.082087</td>\n",
              "      <td>-0.288844</td>\n",
              "      <td>-0.279761</td>\n",
              "      <td>-1.396763</td>\n",
              "    </tr>\n",
              "    <tr>\n",
              "      <th>79</th>\n",
              "      <td>79</td>\n",
              "      <td>pvc zak</td>\n",
              "      <td>other</td>\n",
              "      <td>transparent</td>\n",
              "      <td>regular</td>\n",
              "      <td>2023-09-19 11:57:15.230687</td>\n",
              "      <td>0.464074</td>\n",
              "      <td>0.233918</td>\n",
              "      <td>1.773345</td>\n",
              "      <td>0.614929</td>\n",
              "      <td>-0.997153</td>\n",
              "      <td>-0.242494</td>\n",
              "      <td>-0.449543</td>\n",
              "      <td>-1.397076</td>\n",
              "    </tr>\n",
              "  </tbody>\n",
              "</table>\n",
              "<p>79 rows × 14 columns</p>\n",
              "</div>\n",
              "    <div class=\"colab-df-buttons\">\n",
              "\n",
              "  <div class=\"colab-df-container\">\n",
              "    <button class=\"colab-df-convert\" onclick=\"convertToInteractive('df-0fa54357-703e-4e5e-b8fe-faa5260c7dbc')\"\n",
              "            title=\"Convert this dataframe to an interactive table.\"\n",
              "            style=\"display:none;\">\n",
              "\n",
              "  <svg xmlns=\"http://www.w3.org/2000/svg\" height=\"24px\" viewBox=\"0 -960 960 960\">\n",
              "    <path d=\"M120-120v-720h720v720H120Zm60-500h600v-160H180v160Zm220 220h160v-160H400v160Zm0 220h160v-160H400v160ZM180-400h160v-160H180v160Zm440 0h160v-160H620v160ZM180-180h160v-160H180v160Zm440 0h160v-160H620v160Z\"/>\n",
              "  </svg>\n",
              "    </button>\n",
              "\n",
              "  <style>\n",
              "    .colab-df-container {\n",
              "      display:flex;\n",
              "      gap: 12px;\n",
              "    }\n",
              "\n",
              "    .colab-df-convert {\n",
              "      background-color: #E8F0FE;\n",
              "      border: none;\n",
              "      border-radius: 50%;\n",
              "      cursor: pointer;\n",
              "      display: none;\n",
              "      fill: #1967D2;\n",
              "      height: 32px;\n",
              "      padding: 0 0 0 0;\n",
              "      width: 32px;\n",
              "    }\n",
              "\n",
              "    .colab-df-convert:hover {\n",
              "      background-color: #E2EBFA;\n",
              "      box-shadow: 0px 1px 2px rgba(60, 64, 67, 0.3), 0px 1px 3px 1px rgba(60, 64, 67, 0.15);\n",
              "      fill: #174EA6;\n",
              "    }\n",
              "\n",
              "    .colab-df-buttons div {\n",
              "      margin-bottom: 4px;\n",
              "    }\n",
              "\n",
              "    [theme=dark] .colab-df-convert {\n",
              "      background-color: #3B4455;\n",
              "      fill: #D2E3FC;\n",
              "    }\n",
              "\n",
              "    [theme=dark] .colab-df-convert:hover {\n",
              "      background-color: #434B5C;\n",
              "      box-shadow: 0px 1px 3px 1px rgba(0, 0, 0, 0.15);\n",
              "      filter: drop-shadow(0px 1px 2px rgba(0, 0, 0, 0.3));\n",
              "      fill: #FFFFFF;\n",
              "    }\n",
              "  </style>\n",
              "\n",
              "    <script>\n",
              "      const buttonEl =\n",
              "        document.querySelector('#df-0fa54357-703e-4e5e-b8fe-faa5260c7dbc button.colab-df-convert');\n",
              "      buttonEl.style.display =\n",
              "        google.colab.kernel.accessAllowed ? 'block' : 'none';\n",
              "\n",
              "      async function convertToInteractive(key) {\n",
              "        const element = document.querySelector('#df-0fa54357-703e-4e5e-b8fe-faa5260c7dbc');\n",
              "        const dataTable =\n",
              "          await google.colab.kernel.invokeFunction('convertToInteractive',\n",
              "                                                    [key], {});\n",
              "        if (!dataTable) return;\n",
              "\n",
              "        const docLinkHtml = 'Like what you see? Visit the ' +\n",
              "          '<a target=\"_blank\" href=https://colab.research.google.com/notebooks/data_table.ipynb>data table notebook</a>'\n",
              "          + ' to learn more about interactive tables.';\n",
              "        element.innerHTML = '';\n",
              "        dataTable['output_type'] = 'display_data';\n",
              "        await google.colab.output.renderOutput(dataTable, element);\n",
              "        const docLink = document.createElement('div');\n",
              "        docLink.innerHTML = docLinkHtml;\n",
              "        element.appendChild(docLink);\n",
              "      }\n",
              "    </script>\n",
              "  </div>\n",
              "\n",
              "\n",
              "<div id=\"df-b0bf25a9-b1e6-4c5c-a597-7c9db2e56d4c\">\n",
              "  <button class=\"colab-df-quickchart\" onclick=\"quickchart('df-b0bf25a9-b1e6-4c5c-a597-7c9db2e56d4c')\"\n",
              "            title=\"Suggest charts.\"\n",
              "            style=\"display:none;\">\n",
              "\n",
              "<svg xmlns=\"http://www.w3.org/2000/svg\" height=\"24px\"viewBox=\"0 0 24 24\"\n",
              "     width=\"24px\">\n",
              "    <g>\n",
              "        <path d=\"M19 3H5c-1.1 0-2 .9-2 2v14c0 1.1.9 2 2 2h14c1.1 0 2-.9 2-2V5c0-1.1-.9-2-2-2zM9 17H7v-7h2v7zm4 0h-2V7h2v10zm4 0h-2v-4h2v4z\"/>\n",
              "    </g>\n",
              "</svg>\n",
              "  </button>\n",
              "\n",
              "<style>\n",
              "  .colab-df-quickchart {\n",
              "      --bg-color: #E8F0FE;\n",
              "      --fill-color: #1967D2;\n",
              "      --hover-bg-color: #E2EBFA;\n",
              "      --hover-fill-color: #174EA6;\n",
              "      --disabled-fill-color: #AAA;\n",
              "      --disabled-bg-color: #DDD;\n",
              "  }\n",
              "\n",
              "  [theme=dark] .colab-df-quickchart {\n",
              "      --bg-color: #3B4455;\n",
              "      --fill-color: #D2E3FC;\n",
              "      --hover-bg-color: #434B5C;\n",
              "      --hover-fill-color: #FFFFFF;\n",
              "      --disabled-bg-color: #3B4455;\n",
              "      --disabled-fill-color: #666;\n",
              "  }\n",
              "\n",
              "  .colab-df-quickchart {\n",
              "    background-color: var(--bg-color);\n",
              "    border: none;\n",
              "    border-radius: 50%;\n",
              "    cursor: pointer;\n",
              "    display: none;\n",
              "    fill: var(--fill-color);\n",
              "    height: 32px;\n",
              "    padding: 0;\n",
              "    width: 32px;\n",
              "  }\n",
              "\n",
              "  .colab-df-quickchart:hover {\n",
              "    background-color: var(--hover-bg-color);\n",
              "    box-shadow: 0 1px 2px rgba(60, 64, 67, 0.3), 0 1px 3px 1px rgba(60, 64, 67, 0.15);\n",
              "    fill: var(--button-hover-fill-color);\n",
              "  }\n",
              "\n",
              "  .colab-df-quickchart-complete:disabled,\n",
              "  .colab-df-quickchart-complete:disabled:hover {\n",
              "    background-color: var(--disabled-bg-color);\n",
              "    fill: var(--disabled-fill-color);\n",
              "    box-shadow: none;\n",
              "  }\n",
              "\n",
              "  .colab-df-spinner {\n",
              "    border: 2px solid var(--fill-color);\n",
              "    border-color: transparent;\n",
              "    border-bottom-color: var(--fill-color);\n",
              "    animation:\n",
              "      spin 1s steps(1) infinite;\n",
              "  }\n",
              "\n",
              "  @keyframes spin {\n",
              "    0% {\n",
              "      border-color: transparent;\n",
              "      border-bottom-color: var(--fill-color);\n",
              "      border-left-color: var(--fill-color);\n",
              "    }\n",
              "    20% {\n",
              "      border-color: transparent;\n",
              "      border-left-color: var(--fill-color);\n",
              "      border-top-color: var(--fill-color);\n",
              "    }\n",
              "    30% {\n",
              "      border-color: transparent;\n",
              "      border-left-color: var(--fill-color);\n",
              "      border-top-color: var(--fill-color);\n",
              "      border-right-color: var(--fill-color);\n",
              "    }\n",
              "    40% {\n",
              "      border-color: transparent;\n",
              "      border-right-color: var(--fill-color);\n",
              "      border-top-color: var(--fill-color);\n",
              "    }\n",
              "    60% {\n",
              "      border-color: transparent;\n",
              "      border-right-color: var(--fill-color);\n",
              "    }\n",
              "    80% {\n",
              "      border-color: transparent;\n",
              "      border-right-color: var(--fill-color);\n",
              "      border-bottom-color: var(--fill-color);\n",
              "    }\n",
              "    90% {\n",
              "      border-color: transparent;\n",
              "      border-bottom-color: var(--fill-color);\n",
              "    }\n",
              "  }\n",
              "</style>\n",
              "\n",
              "  <script>\n",
              "    async function quickchart(key) {\n",
              "      const quickchartButtonEl =\n",
              "        document.querySelector('#' + key + ' button');\n",
              "      quickchartButtonEl.disabled = true;  // To prevent multiple clicks.\n",
              "      quickchartButtonEl.classList.add('colab-df-spinner');\n",
              "      try {\n",
              "        const charts = await google.colab.kernel.invokeFunction(\n",
              "            'suggestCharts', [key], {});\n",
              "      } catch (error) {\n",
              "        console.error('Error during call to suggestCharts:', error);\n",
              "      }\n",
              "      quickchartButtonEl.classList.remove('colab-df-spinner');\n",
              "      quickchartButtonEl.classList.add('colab-df-quickchart-complete');\n",
              "    }\n",
              "    (() => {\n",
              "      let quickchartButtonEl =\n",
              "        document.querySelector('#df-b0bf25a9-b1e6-4c5c-a597-7c9db2e56d4c button');\n",
              "      quickchartButtonEl.style.display =\n",
              "        google.colab.kernel.accessAllowed ? 'block' : 'none';\n",
              "    })();\n",
              "  </script>\n",
              "</div>\n",
              "    </div>\n",
              "  </div>\n"
            ]
          },
          "metadata": {},
          "execution_count": 101
        }
      ]
    },
    {
      "cell_type": "code",
      "metadata": {
        "id": "QfNEmUZMeIEx",
        "colab": {
          "base_uri": "https://localhost:8080/"
        },
        "outputId": "4c0ac48d-4bd9-4e38-c155-e1c077479f87"
      },
      "source": [
        "# Randomize the order of the inputs, so they can be evenly distributed for training, testing, and validation\n",
        "# https://stackoverflow.com/a/37710486/2020087\n",
        "num_inputs = len(inputs)\n",
        "randomize = np.arange(num_inputs)\n",
        "np.random.shuffle(randomize)\n",
        "\n",
        "# Swap the consecutive indexes (0, 1, 2, etc) with the randomized indexes\n",
        "inputs = inputs[randomize]\n",
        "outputs = outputs[randomize]\n",
        "\n",
        "# Split the recordings (group of samples) into three sets: training, testing and validation\n",
        "TRAIN_SPLIT = int(0.6 * num_inputs)\n",
        "TEST_SPLIT = int(0.2 * num_inputs + TRAIN_SPLIT)\n",
        "\n",
        "inputs_train, inputs_test, inputs_validate = np.split(inputs, [TRAIN_SPLIT, TEST_SPLIT])\n",
        "outputs_train, outputs_test, outputs_validate = np.split(outputs, [TRAIN_SPLIT, TEST_SPLIT])\n",
        "\n",
        "print(\"Data set randomization and splitting complete.\")"
      ],
      "execution_count": null,
      "outputs": [
        {
          "output_type": "stream",
          "name": "stdout",
          "text": [
            "Data set randomization and splitting complete.\n"
          ]
        }
      ]
    },
    {
      "cell_type": "code",
      "source": [
        "# build the model and train it\n",
        "model = tf.keras.Sequential()\n",
        "model.add(tf.keras.layers.Dense(50, activation='relu')) # relu is used for performance\n",
        "model.add(tf.keras.layers.Dense(15, activation='relu'))\n",
        "model.add(tf.keras.layers.Dense(NUM_PLASTICTYPES, activation='softmax')) # softmax is used, because we only expect one gesture to occur per input\n",
        "model.compile(optimizer='rmsprop', loss='mse', metrics=['mae'])\n",
        "history = model.fit(inputs_train, outputs_train, epochs=200, batch_size=1, validation_data=(inputs_validate, outputs_validate))"
      ],
      "metadata": {
        "id": "DTqdTwtiZ4OI",
        "colab": {
          "base_uri": "https://localhost:8080/"
        },
        "outputId": "000eb3ef-c0ac-4e65-8d70-054199bb218c"
      },
      "execution_count": null,
      "outputs": [
        {
          "output_type": "stream",
          "name": "stdout",
          "text": [
            "Epoch 1/200\n",
            "47/47 [==============================] - 1s 16ms/step - loss: 0.1603 - mae: 0.3186 - val_loss: 0.1467 - val_mae: 0.3051\n",
            "Epoch 2/200\n",
            "47/47 [==============================] - 0s 4ms/step - loss: 0.1417 - mae: 0.2983 - val_loss: 0.1346 - val_mae: 0.2880\n",
            "Epoch 3/200\n",
            "47/47 [==============================] - 0s 3ms/step - loss: 0.1252 - mae: 0.2755 - val_loss: 0.1250 - val_mae: 0.2666\n",
            "Epoch 4/200\n",
            "47/47 [==============================] - 0s 3ms/step - loss: 0.1123 - mae: 0.2504 - val_loss: 0.1121 - val_mae: 0.2329\n",
            "Epoch 5/200\n",
            "47/47 [==============================] - 0s 4ms/step - loss: 0.1015 - mae: 0.2283 - val_loss: 0.1139 - val_mae: 0.2316\n",
            "Epoch 6/200\n",
            "47/47 [==============================] - 0s 3ms/step - loss: 0.0917 - mae: 0.2131 - val_loss: 0.1027 - val_mae: 0.1987\n",
            "Epoch 7/200\n",
            "47/47 [==============================] - 0s 4ms/step - loss: 0.0818 - mae: 0.1915 - val_loss: 0.0978 - val_mae: 0.2038\n",
            "Epoch 8/200\n",
            "47/47 [==============================] - 0s 3ms/step - loss: 0.0728 - mae: 0.1794 - val_loss: 0.0925 - val_mae: 0.1725\n",
            "Epoch 9/200\n",
            "47/47 [==============================] - 0s 3ms/step - loss: 0.0648 - mae: 0.1588 - val_loss: 0.0921 - val_mae: 0.1623\n",
            "Epoch 10/200\n",
            "47/47 [==============================] - 0s 3ms/step - loss: 0.0620 - mae: 0.1497 - val_loss: 0.0946 - val_mae: 0.1592\n",
            "Epoch 11/200\n",
            "47/47 [==============================] - 0s 4ms/step - loss: 0.0551 - mae: 0.1370 - val_loss: 0.0947 - val_mae: 0.1527\n",
            "Epoch 12/200\n",
            "47/47 [==============================] - 0s 3ms/step - loss: 0.0496 - mae: 0.1241 - val_loss: 0.0948 - val_mae: 0.1518\n",
            "Epoch 13/200\n",
            "47/47 [==============================] - 0s 4ms/step - loss: 0.0422 - mae: 0.1121 - val_loss: 0.1013 - val_mae: 0.1469\n",
            "Epoch 14/200\n",
            "47/47 [==============================] - 0s 3ms/step - loss: 0.0452 - mae: 0.1123 - val_loss: 0.0974 - val_mae: 0.1500\n",
            "Epoch 15/200\n",
            "47/47 [==============================] - 0s 3ms/step - loss: 0.0429 - mae: 0.1064 - val_loss: 0.0951 - val_mae: 0.1377\n",
            "Epoch 16/200\n",
            "47/47 [==============================] - 0s 3ms/step - loss: 0.0392 - mae: 0.0990 - val_loss: 0.0936 - val_mae: 0.1348\n",
            "Epoch 17/200\n",
            "47/47 [==============================] - 0s 3ms/step - loss: 0.0370 - mae: 0.0946 - val_loss: 0.0923 - val_mae: 0.1336\n",
            "Epoch 18/200\n",
            "47/47 [==============================] - 0s 3ms/step - loss: 0.0331 - mae: 0.0867 - val_loss: 0.0923 - val_mae: 0.1327\n",
            "Epoch 19/200\n",
            "47/47 [==============================] - 0s 3ms/step - loss: 0.0295 - mae: 0.0878 - val_loss: 0.0920 - val_mae: 0.1284\n",
            "Epoch 20/200\n",
            "47/47 [==============================] - 0s 3ms/step - loss: 0.0252 - mae: 0.0717 - val_loss: 0.0950 - val_mae: 0.1353\n",
            "Epoch 21/200\n",
            "47/47 [==============================] - 0s 4ms/step - loss: 0.0271 - mae: 0.0760 - val_loss: 0.0921 - val_mae: 0.1292\n",
            "Epoch 22/200\n",
            "47/47 [==============================] - 0s 3ms/step - loss: 0.0264 - mae: 0.0748 - val_loss: 0.0888 - val_mae: 0.1226\n",
            "Epoch 23/200\n",
            "47/47 [==============================] - 0s 3ms/step - loss: 0.0244 - mae: 0.0700 - val_loss: 0.0891 - val_mae: 0.1196\n",
            "Epoch 24/200\n",
            "47/47 [==============================] - 0s 3ms/step - loss: 0.0196 - mae: 0.0609 - val_loss: 0.0904 - val_mae: 0.1205\n",
            "Epoch 25/200\n",
            "47/47 [==============================] - 0s 4ms/step - loss: 0.0208 - mae: 0.0605 - val_loss: 0.0896 - val_mae: 0.1170\n",
            "Epoch 26/200\n",
            "47/47 [==============================] - 0s 4ms/step - loss: 0.0223 - mae: 0.0613 - val_loss: 0.0884 - val_mae: 0.1184\n",
            "Epoch 27/200\n",
            "47/47 [==============================] - 0s 3ms/step - loss: 0.0221 - mae: 0.0550 - val_loss: 0.0853 - val_mae: 0.1129\n",
            "Epoch 28/200\n",
            "47/47 [==============================] - 0s 3ms/step - loss: 0.0208 - mae: 0.0552 - val_loss: 0.0888 - val_mae: 0.1163\n",
            "Epoch 29/200\n",
            "47/47 [==============================] - 0s 4ms/step - loss: 0.0184 - mae: 0.0535 - val_loss: 0.0863 - val_mae: 0.1131\n",
            "Epoch 30/200\n",
            "47/47 [==============================] - 0s 3ms/step - loss: 0.0186 - mae: 0.0474 - val_loss: 0.0862 - val_mae: 0.1123\n",
            "Epoch 31/200\n",
            "47/47 [==============================] - 0s 4ms/step - loss: 0.0172 - mae: 0.0479 - val_loss: 0.0883 - val_mae: 0.1137\n",
            "Epoch 32/200\n",
            "47/47 [==============================] - 0s 3ms/step - loss: 0.0191 - mae: 0.0485 - val_loss: 0.0849 - val_mae: 0.1102\n",
            "Epoch 33/200\n",
            "47/47 [==============================] - 0s 4ms/step - loss: 0.0142 - mae: 0.0377 - val_loss: 0.0842 - val_mae: 0.1077\n",
            "Epoch 34/200\n",
            "47/47 [==============================] - 0s 3ms/step - loss: 0.0176 - mae: 0.0435 - val_loss: 0.0858 - val_mae: 0.1086\n",
            "Epoch 35/200\n",
            "47/47 [==============================] - 0s 4ms/step - loss: 0.0122 - mae: 0.0383 - val_loss: 0.0813 - val_mae: 0.1050\n",
            "Epoch 36/200\n",
            "47/47 [==============================] - 0s 4ms/step - loss: 0.0146 - mae: 0.0401 - val_loss: 0.0828 - val_mae: 0.1057\n",
            "Epoch 37/200\n",
            "47/47 [==============================] - 0s 4ms/step - loss: 0.0089 - mae: 0.0308 - val_loss: 0.0861 - val_mae: 0.1069\n",
            "Epoch 38/200\n",
            "47/47 [==============================] - 0s 3ms/step - loss: 0.0139 - mae: 0.0369 - val_loss: 0.0844 - val_mae: 0.1042\n",
            "Epoch 39/200\n",
            "47/47 [==============================] - 0s 3ms/step - loss: 0.0132 - mae: 0.0364 - val_loss: 0.0856 - val_mae: 0.1076\n",
            "Epoch 40/200\n",
            "47/47 [==============================] - 0s 3ms/step - loss: 0.0089 - mae: 0.0291 - val_loss: 0.0842 - val_mae: 0.1052\n",
            "Epoch 41/200\n",
            "47/47 [==============================] - 0s 4ms/step - loss: 0.0097 - mae: 0.0280 - val_loss: 0.0850 - val_mae: 0.1049\n",
            "Epoch 42/200\n",
            "47/47 [==============================] - 0s 4ms/step - loss: 0.0089 - mae: 0.0282 - val_loss: 0.0818 - val_mae: 0.1002\n",
            "Epoch 43/200\n",
            "47/47 [==============================] - 0s 3ms/step - loss: 0.0058 - mae: 0.0219 - val_loss: 0.0853 - val_mae: 0.1048\n",
            "Epoch 44/200\n",
            "47/47 [==============================] - 0s 4ms/step - loss: 0.0090 - mae: 0.0261 - val_loss: 0.0857 - val_mae: 0.1034\n",
            "Epoch 45/200\n",
            "47/47 [==============================] - 0s 4ms/step - loss: 0.0094 - mae: 0.0272 - val_loss: 0.0862 - val_mae: 0.1040\n",
            "Epoch 46/200\n",
            "47/47 [==============================] - 0s 4ms/step - loss: 0.0069 - mae: 0.0248 - val_loss: 0.0838 - val_mae: 0.0992\n",
            "Epoch 47/200\n",
            "47/47 [==============================] - 0s 4ms/step - loss: 0.0081 - mae: 0.0268 - val_loss: 0.0829 - val_mae: 0.1001\n",
            "Epoch 48/200\n",
            "47/47 [==============================] - 0s 5ms/step - loss: 0.0068 - mae: 0.0228 - val_loss: 0.0821 - val_mae: 0.0997\n",
            "Epoch 49/200\n",
            "47/47 [==============================] - 0s 4ms/step - loss: 0.0053 - mae: 0.0200 - val_loss: 0.0806 - val_mae: 0.0960\n",
            "Epoch 50/200\n",
            "47/47 [==============================] - 0s 5ms/step - loss: 0.0024 - mae: 0.0165 - val_loss: 0.0832 - val_mae: 0.0972\n",
            "Epoch 51/200\n",
            "47/47 [==============================] - 0s 5ms/step - loss: 0.0051 - mae: 0.0203 - val_loss: 0.0840 - val_mae: 0.1011\n",
            "Epoch 52/200\n",
            "47/47 [==============================] - 0s 5ms/step - loss: 0.0027 - mae: 0.0162 - val_loss: 0.0839 - val_mae: 0.0996\n",
            "Epoch 53/200\n",
            "47/47 [==============================] - 0s 5ms/step - loss: 0.0044 - mae: 0.0178 - val_loss: 0.0842 - val_mae: 0.0978\n",
            "Epoch 54/200\n",
            "47/47 [==============================] - 0s 5ms/step - loss: 0.0026 - mae: 0.0167 - val_loss: 0.0824 - val_mae: 0.0952\n",
            "Epoch 55/200\n",
            "47/47 [==============================] - 0s 5ms/step - loss: 0.0038 - mae: 0.0160 - val_loss: 0.0799 - val_mae: 0.0943\n",
            "Epoch 56/200\n",
            "47/47 [==============================] - 0s 5ms/step - loss: 0.0022 - mae: 0.0137 - val_loss: 0.0879 - val_mae: 0.1091\n",
            "Epoch 57/200\n",
            "47/47 [==============================] - 0s 3ms/step - loss: 0.0038 - mae: 0.0189 - val_loss: 0.0814 - val_mae: 0.0960\n",
            "Epoch 58/200\n",
            "47/47 [==============================] - 0s 3ms/step - loss: 0.0031 - mae: 0.0141 - val_loss: 0.0821 - val_mae: 0.0956\n",
            "Epoch 59/200\n",
            "47/47 [==============================] - 0s 4ms/step - loss: 0.0013 - mae: 0.0120 - val_loss: 0.0739 - val_mae: 0.0918\n",
            "Epoch 60/200\n",
            "47/47 [==============================] - 0s 3ms/step - loss: 0.0025 - mae: 0.0133 - val_loss: 0.0853 - val_mae: 0.1047\n",
            "Epoch 61/200\n",
            "47/47 [==============================] - 0s 3ms/step - loss: 0.0012 - mae: 0.0117 - val_loss: 0.0794 - val_mae: 0.0978\n",
            "Epoch 62/200\n",
            "47/47 [==============================] - 0s 4ms/step - loss: 0.0043 - mae: 0.0145 - val_loss: 0.0776 - val_mae: 0.0942\n",
            "Epoch 63/200\n",
            "47/47 [==============================] - 0s 3ms/step - loss: 4.2073e-04 - mae: 0.0084 - val_loss: 0.0817 - val_mae: 0.0990\n",
            "Epoch 64/200\n",
            "47/47 [==============================] - 0s 3ms/step - loss: 5.4195e-04 - mae: 0.0087 - val_loss: 0.0741 - val_mae: 0.0895\n",
            "Epoch 65/200\n",
            "47/47 [==============================] - 0s 3ms/step - loss: 0.0017 - mae: 0.0118 - val_loss: 0.0812 - val_mae: 0.0926\n",
            "Epoch 66/200\n",
            "47/47 [==============================] - 0s 3ms/step - loss: 0.0022 - mae: 0.0108 - val_loss: 0.0783 - val_mae: 0.0928\n",
            "Epoch 67/200\n",
            "47/47 [==============================] - 0s 3ms/step - loss: 6.5852e-04 - mae: 0.0079 - val_loss: 0.0843 - val_mae: 0.1030\n",
            "Epoch 68/200\n",
            "47/47 [==============================] - 0s 3ms/step - loss: 0.0014 - mae: 0.0107 - val_loss: 0.0715 - val_mae: 0.0861\n",
            "Epoch 69/200\n",
            "47/47 [==============================] - 0s 3ms/step - loss: 8.5864e-04 - mae: 0.0088 - val_loss: 0.0771 - val_mae: 0.0904\n",
            "Epoch 70/200\n",
            "47/47 [==============================] - 0s 3ms/step - loss: 0.0019 - mae: 0.0094 - val_loss: 0.0755 - val_mae: 0.0913\n",
            "Epoch 71/200\n",
            "47/47 [==============================] - 0s 3ms/step - loss: 8.1970e-04 - mae: 0.0067 - val_loss: 0.0693 - val_mae: 0.0855\n",
            "Epoch 72/200\n",
            "47/47 [==============================] - 0s 4ms/step - loss: 0.0017 - mae: 0.0102 - val_loss: 0.0705 - val_mae: 0.0848\n",
            "Epoch 73/200\n",
            "47/47 [==============================] - 0s 3ms/step - loss: 1.2148e-04 - mae: 0.0049 - val_loss: 0.0812 - val_mae: 0.1029\n",
            "Epoch 74/200\n",
            "47/47 [==============================] - 0s 3ms/step - loss: 7.9261e-04 - mae: 0.0077 - val_loss: 0.0741 - val_mae: 0.0902\n",
            "Epoch 75/200\n",
            "47/47 [==============================] - 0s 4ms/step - loss: 3.4425e-04 - mae: 0.0061 - val_loss: 0.0718 - val_mae: 0.0902\n",
            "Epoch 76/200\n",
            "47/47 [==============================] - 0s 3ms/step - loss: 2.8888e-04 - mae: 0.0061 - val_loss: 0.0690 - val_mae: 0.0855\n",
            "Epoch 77/200\n",
            "47/47 [==============================] - 0s 3ms/step - loss: 0.0010 - mae: 0.0069 - val_loss: 0.0663 - val_mae: 0.0833\n",
            "Epoch 78/200\n",
            "47/47 [==============================] - 0s 3ms/step - loss: 3.6414e-04 - mae: 0.0048 - val_loss: 0.0673 - val_mae: 0.0827\n",
            "Epoch 79/200\n",
            "47/47 [==============================] - 0s 4ms/step - loss: 3.7386e-04 - mae: 0.0055 - val_loss: 0.0659 - val_mae: 0.0807\n",
            "Epoch 80/200\n",
            "47/47 [==============================] - 0s 3ms/step - loss: 6.1726e-04 - mae: 0.0056 - val_loss: 0.0681 - val_mae: 0.0865\n",
            "Epoch 81/200\n",
            "47/47 [==============================] - 0s 3ms/step - loss: 8.9869e-04 - mae: 0.0068 - val_loss: 0.0616 - val_mae: 0.0785\n",
            "Epoch 82/200\n",
            "47/47 [==============================] - 0s 4ms/step - loss: 1.5924e-04 - mae: 0.0043 - val_loss: 0.0648 - val_mae: 0.0811\n",
            "Epoch 83/200\n",
            "47/47 [==============================] - 0s 3ms/step - loss: 2.0134e-04 - mae: 0.0045 - val_loss: 0.0654 - val_mae: 0.0827\n",
            "Epoch 84/200\n",
            "47/47 [==============================] - 0s 4ms/step - loss: 1.9339e-04 - mae: 0.0039 - val_loss: 0.0658 - val_mae: 0.0798\n",
            "Epoch 85/200\n",
            "47/47 [==============================] - 0s 4ms/step - loss: 1.7018e-04 - mae: 0.0041 - val_loss: 0.0714 - val_mae: 0.0884\n",
            "Epoch 86/200\n",
            "47/47 [==============================] - 0s 3ms/step - loss: 3.0885e-04 - mae: 0.0043 - val_loss: 0.0708 - val_mae: 0.0836\n",
            "Epoch 87/200\n",
            "47/47 [==============================] - 0s 3ms/step - loss: 6.3198e-05 - mae: 0.0032 - val_loss: 0.0673 - val_mae: 0.0829\n",
            "Epoch 88/200\n",
            "47/47 [==============================] - 0s 4ms/step - loss: 2.4816e-04 - mae: 0.0042 - val_loss: 0.0645 - val_mae: 0.0797\n",
            "Epoch 89/200\n",
            "47/47 [==============================] - 0s 4ms/step - loss: 1.8530e-04 - mae: 0.0040 - val_loss: 0.0597 - val_mae: 0.0773\n",
            "Epoch 90/200\n",
            "47/47 [==============================] - 0s 3ms/step - loss: 7.5285e-05 - mae: 0.0031 - val_loss: 0.0654 - val_mae: 0.0808\n",
            "Epoch 91/200\n",
            "47/47 [==============================] - 0s 4ms/step - loss: 8.5949e-05 - mae: 0.0025 - val_loss: 0.0690 - val_mae: 0.0877\n",
            "Epoch 92/200\n",
            "47/47 [==============================] - 0s 4ms/step - loss: 1.5983e-04 - mae: 0.0034 - val_loss: 0.0669 - val_mae: 0.0826\n",
            "Epoch 93/200\n",
            "47/47 [==============================] - 0s 4ms/step - loss: 3.0440e-05 - mae: 0.0022 - val_loss: 0.0684 - val_mae: 0.0812\n",
            "Epoch 94/200\n",
            "47/47 [==============================] - 0s 4ms/step - loss: 8.4234e-05 - mae: 0.0029 - val_loss: 0.0708 - val_mae: 0.0830\n",
            "Epoch 95/200\n",
            "47/47 [==============================] - 0s 4ms/step - loss: 5.3278e-05 - mae: 0.0022 - val_loss: 0.0668 - val_mae: 0.0828\n",
            "Epoch 96/200\n",
            "47/47 [==============================] - 0s 4ms/step - loss: 3.5846e-05 - mae: 0.0023 - val_loss: 0.0667 - val_mae: 0.0813\n",
            "Epoch 97/200\n",
            "47/47 [==============================] - 0s 3ms/step - loss: 2.5392e-05 - mae: 0.0019 - val_loss: 0.0729 - val_mae: 0.0918\n",
            "Epoch 98/200\n",
            "47/47 [==============================] - 0s 3ms/step - loss: 1.4403e-04 - mae: 0.0036 - val_loss: 0.0583 - val_mae: 0.0737\n",
            "Epoch 99/200\n",
            "47/47 [==============================] - 0s 4ms/step - loss: 3.5094e-05 - mae: 0.0020 - val_loss: 0.0702 - val_mae: 0.0859\n",
            "Epoch 100/200\n",
            "47/47 [==============================] - 0s 3ms/step - loss: 1.2699e-04 - mae: 0.0031 - val_loss: 0.0689 - val_mae: 0.0813\n",
            "Epoch 101/200\n",
            "47/47 [==============================] - 0s 3ms/step - loss: 4.3499e-05 - mae: 0.0020 - val_loss: 0.0709 - val_mae: 0.0879\n",
            "Epoch 102/200\n",
            "47/47 [==============================] - 0s 3ms/step - loss: 5.8235e-05 - mae: 0.0022 - val_loss: 0.0670 - val_mae: 0.0823\n",
            "Epoch 103/200\n",
            "47/47 [==============================] - 0s 3ms/step - loss: 2.7281e-04 - mae: 0.0039 - val_loss: 0.0639 - val_mae: 0.0779\n",
            "Epoch 104/200\n",
            "47/47 [==============================] - 0s 3ms/step - loss: 6.3108e-04 - mae: 0.0040 - val_loss: 0.0645 - val_mae: 0.0795\n",
            "Epoch 105/200\n",
            "47/47 [==============================] - 0s 3ms/step - loss: 7.2234e-05 - mae: 0.0019 - val_loss: 0.0700 - val_mae: 0.0851\n",
            "Epoch 106/200\n",
            "47/47 [==============================] - 0s 4ms/step - loss: 2.0499e-05 - mae: 0.0016 - val_loss: 0.0656 - val_mae: 0.0794\n",
            "Epoch 107/200\n",
            "47/47 [==============================] - 0s 3ms/step - loss: 2.2683e-05 - mae: 0.0018 - val_loss: 0.0637 - val_mae: 0.0770\n",
            "Epoch 108/200\n",
            "47/47 [==============================] - 0s 3ms/step - loss: 1.9915e-05 - mae: 0.0017 - val_loss: 0.0643 - val_mae: 0.0779\n",
            "Epoch 109/200\n",
            "47/47 [==============================] - 0s 3ms/step - loss: 6.8600e-05 - mae: 0.0023 - val_loss: 0.0679 - val_mae: 0.0815\n",
            "Epoch 110/200\n",
            "47/47 [==============================] - 0s 3ms/step - loss: 2.5327e-05 - mae: 0.0020 - val_loss: 0.0654 - val_mae: 0.0803\n",
            "Epoch 111/200\n",
            "47/47 [==============================] - 0s 3ms/step - loss: 3.7166e-05 - mae: 0.0018 - val_loss: 0.0645 - val_mae: 0.0786\n",
            "Epoch 112/200\n",
            "47/47 [==============================] - 0s 4ms/step - loss: 8.3987e-05 - mae: 0.0023 - val_loss: 0.0623 - val_mae: 0.0757\n",
            "Epoch 113/200\n",
            "47/47 [==============================] - 0s 4ms/step - loss: 5.8863e-05 - mae: 0.0018 - val_loss: 0.0639 - val_mae: 0.0777\n",
            "Epoch 114/200\n",
            "47/47 [==============================] - 0s 3ms/step - loss: 9.6468e-06 - mae: 0.0012 - val_loss: 0.0683 - val_mae: 0.0834\n",
            "Epoch 115/200\n",
            "47/47 [==============================] - 0s 4ms/step - loss: 2.1320e-05 - mae: 0.0016 - val_loss: 0.0599 - val_mae: 0.0741\n",
            "Epoch 116/200\n",
            "47/47 [==============================] - 0s 3ms/step - loss: 5.8073e-05 - mae: 0.0023 - val_loss: 0.0648 - val_mae: 0.0800\n",
            "Epoch 117/200\n",
            "47/47 [==============================] - 0s 3ms/step - loss: 1.0260e-05 - mae: 0.0012 - val_loss: 0.0688 - val_mae: 0.0823\n",
            "Epoch 118/200\n",
            "47/47 [==============================] - 0s 3ms/step - loss: 1.1017e-05 - mae: 0.0013 - val_loss: 0.0612 - val_mae: 0.0754\n",
            "Epoch 119/200\n",
            "47/47 [==============================] - 0s 5ms/step - loss: 5.9337e-05 - mae: 0.0020 - val_loss: 0.0629 - val_mae: 0.0781\n",
            "Epoch 120/200\n",
            "47/47 [==============================] - 0s 4ms/step - loss: 1.1040e-04 - mae: 0.0024 - val_loss: 0.0610 - val_mae: 0.0758\n",
            "Epoch 121/200\n",
            "47/47 [==============================] - 0s 5ms/step - loss: 1.2512e-04 - mae: 0.0023 - val_loss: 0.0591 - val_mae: 0.0743\n",
            "Epoch 122/200\n",
            "47/47 [==============================] - 0s 5ms/step - loss: 4.4460e-05 - mae: 0.0015 - val_loss: 0.0659 - val_mae: 0.0819\n",
            "Epoch 123/200\n",
            "47/47 [==============================] - 0s 5ms/step - loss: 6.9926e-05 - mae: 0.0016 - val_loss: 0.0580 - val_mae: 0.0728\n",
            "Epoch 124/200\n",
            "47/47 [==============================] - 0s 4ms/step - loss: 5.6121e-05 - mae: 0.0021 - val_loss: 0.0594 - val_mae: 0.0743\n",
            "Epoch 125/200\n",
            "47/47 [==============================] - 0s 5ms/step - loss: 5.8104e-06 - mae: 0.0010 - val_loss: 0.0587 - val_mae: 0.0724\n",
            "Epoch 126/200\n",
            "47/47 [==============================] - 0s 4ms/step - loss: 6.8236e-06 - mae: 9.6728e-04 - val_loss: 0.0617 - val_mae: 0.0781\n",
            "Epoch 127/200\n",
            "47/47 [==============================] - 0s 4ms/step - loss: 2.3630e-05 - mae: 0.0016 - val_loss: 0.0612 - val_mae: 0.0773\n",
            "Epoch 128/200\n",
            "47/47 [==============================] - 0s 5ms/step - loss: 1.1467e-05 - mae: 0.0011 - val_loss: 0.0621 - val_mae: 0.0782\n",
            "Epoch 129/200\n",
            "47/47 [==============================] - 0s 5ms/step - loss: 1.3092e-05 - mae: 0.0013 - val_loss: 0.0620 - val_mae: 0.0769\n",
            "Epoch 130/200\n",
            "47/47 [==============================] - 0s 4ms/step - loss: 3.9856e-06 - mae: 8.9915e-04 - val_loss: 0.0600 - val_mae: 0.0737\n",
            "Epoch 131/200\n",
            "47/47 [==============================] - 0s 4ms/step - loss: 5.3915e-06 - mae: 9.9487e-04 - val_loss: 0.0602 - val_mae: 0.0738\n",
            "Epoch 132/200\n",
            "47/47 [==============================] - 0s 3ms/step - loss: 5.6660e-06 - mae: 9.3076e-04 - val_loss: 0.0609 - val_mae: 0.0745\n",
            "Epoch 133/200\n",
            "47/47 [==============================] - 0s 3ms/step - loss: 3.9467e-06 - mae: 7.9984e-04 - val_loss: 0.0614 - val_mae: 0.0766\n",
            "Epoch 134/200\n",
            "47/47 [==============================] - 0s 4ms/step - loss: 6.1128e-06 - mae: 9.8953e-04 - val_loss: 0.0625 - val_mae: 0.0769\n",
            "Epoch 135/200\n",
            "47/47 [==============================] - 0s 3ms/step - loss: 4.4864e-06 - mae: 8.7076e-04 - val_loss: 0.0617 - val_mae: 0.0764\n",
            "Epoch 136/200\n",
            "47/47 [==============================] - 0s 4ms/step - loss: 3.3318e-06 - mae: 7.9011e-04 - val_loss: 0.0605 - val_mae: 0.0741\n",
            "Epoch 137/200\n",
            "47/47 [==============================] - 0s 4ms/step - loss: 3.5126e-06 - mae: 7.7855e-04 - val_loss: 0.0628 - val_mae: 0.0772\n",
            "Epoch 138/200\n",
            "47/47 [==============================] - 0s 4ms/step - loss: 4.3456e-06 - mae: 8.7163e-04 - val_loss: 0.0620 - val_mae: 0.0767\n",
            "Epoch 139/200\n",
            "47/47 [==============================] - 0s 3ms/step - loss: 4.1816e-06 - mae: 8.2377e-04 - val_loss: 0.0622 - val_mae: 0.0767\n",
            "Epoch 140/200\n",
            "47/47 [==============================] - 0s 3ms/step - loss: 3.3955e-06 - mae: 7.7055e-04 - val_loss: 0.0615 - val_mae: 0.0749\n",
            "Epoch 141/200\n",
            "47/47 [==============================] - 0s 4ms/step - loss: 2.9483e-06 - mae: 7.7526e-04 - val_loss: 0.0628 - val_mae: 0.0770\n",
            "Epoch 142/200\n",
            "47/47 [==============================] - 0s 3ms/step - loss: 2.7421e-06 - mae: 7.4733e-04 - val_loss: 0.0616 - val_mae: 0.0750\n",
            "Epoch 143/200\n",
            "47/47 [==============================] - 0s 3ms/step - loss: 3.1856e-06 - mae: 7.8046e-04 - val_loss: 0.0619 - val_mae: 0.0758\n",
            "Epoch 144/200\n",
            "47/47 [==============================] - 0s 4ms/step - loss: 2.9540e-06 - mae: 7.3022e-04 - val_loss: 0.0625 - val_mae: 0.0766\n",
            "Epoch 145/200\n",
            "47/47 [==============================] - 0s 4ms/step - loss: 2.9851e-06 - mae: 7.1545e-04 - val_loss: 0.0630 - val_mae: 0.0772\n",
            "Epoch 146/200\n",
            "47/47 [==============================] - 0s 3ms/step - loss: 2.9442e-06 - mae: 7.3477e-04 - val_loss: 0.0632 - val_mae: 0.0772\n",
            "Epoch 147/200\n",
            "47/47 [==============================] - 0s 4ms/step - loss: 2.9690e-06 - mae: 7.2763e-04 - val_loss: 0.0627 - val_mae: 0.0766\n",
            "Epoch 148/200\n",
            "47/47 [==============================] - 0s 4ms/step - loss: 2.5840e-06 - mae: 6.8443e-04 - val_loss: 0.0625 - val_mae: 0.0764\n",
            "Epoch 149/200\n",
            "47/47 [==============================] - 0s 3ms/step - loss: 2.6648e-06 - mae: 7.0314e-04 - val_loss: 0.0630 - val_mae: 0.0770\n",
            "Epoch 150/200\n",
            "47/47 [==============================] - 0s 3ms/step - loss: 2.2258e-06 - mae: 6.7098e-04 - val_loss: 0.0615 - val_mae: 0.0749\n",
            "Epoch 151/200\n",
            "47/47 [==============================] - 0s 4ms/step - loss: 2.6932e-06 - mae: 6.8272e-04 - val_loss: 0.0623 - val_mae: 0.0756\n",
            "Epoch 152/200\n",
            "47/47 [==============================] - 0s 3ms/step - loss: 2.4577e-06 - mae: 6.7724e-04 - val_loss: 0.0634 - val_mae: 0.0771\n",
            "Epoch 153/200\n",
            "47/47 [==============================] - 0s 3ms/step - loss: 2.4115e-06 - mae: 6.6974e-04 - val_loss: 0.0624 - val_mae: 0.0760\n",
            "Epoch 154/200\n",
            "47/47 [==============================] - 0s 4ms/step - loss: 2.3612e-06 - mae: 6.5820e-04 - val_loss: 0.0630 - val_mae: 0.0765\n",
            "Epoch 155/200\n",
            "47/47 [==============================] - 0s 4ms/step - loss: 2.1361e-06 - mae: 6.6184e-04 - val_loss: 0.0631 - val_mae: 0.0768\n",
            "Epoch 156/200\n",
            "47/47 [==============================] - 0s 3ms/step - loss: 2.3486e-06 - mae: 6.6777e-04 - val_loss: 0.0627 - val_mae: 0.0763\n",
            "Epoch 157/200\n",
            "47/47 [==============================] - 0s 3ms/step - loss: 2.1117e-06 - mae: 6.4075e-04 - val_loss: 0.0628 - val_mae: 0.0760\n",
            "Epoch 158/200\n",
            "47/47 [==============================] - 0s 3ms/step - loss: 2.2621e-06 - mae: 6.5380e-04 - val_loss: 0.0635 - val_mae: 0.0769\n",
            "Epoch 159/200\n",
            "47/47 [==============================] - 0s 4ms/step - loss: 2.0488e-06 - mae: 6.3838e-04 - val_loss: 0.0629 - val_mae: 0.0760\n",
            "Epoch 160/200\n",
            "47/47 [==============================] - 0s 3ms/step - loss: 1.9012e-06 - mae: 5.9580e-04 - val_loss: 0.0636 - val_mae: 0.0773\n",
            "Epoch 161/200\n",
            "47/47 [==============================] - 0s 4ms/step - loss: 2.0153e-06 - mae: 6.2538e-04 - val_loss: 0.0637 - val_mae: 0.0773\n",
            "Epoch 162/200\n",
            "47/47 [==============================] - 0s 4ms/step - loss: 2.0932e-06 - mae: 6.2313e-04 - val_loss: 0.0630 - val_mae: 0.0762\n",
            "Epoch 163/200\n",
            "47/47 [==============================] - 0s 3ms/step - loss: 1.9989e-06 - mae: 6.2041e-04 - val_loss: 0.0633 - val_mae: 0.0765\n",
            "Epoch 164/200\n",
            "47/47 [==============================] - 0s 3ms/step - loss: 1.9076e-06 - mae: 6.1707e-04 - val_loss: 0.0635 - val_mae: 0.0769\n",
            "Epoch 165/200\n",
            "47/47 [==============================] - 0s 4ms/step - loss: 1.7920e-06 - mae: 6.0037e-04 - val_loss: 0.0633 - val_mae: 0.0768\n",
            "Epoch 166/200\n",
            "47/47 [==============================] - 0s 4ms/step - loss: 1.7775e-06 - mae: 5.8889e-04 - val_loss: 0.0632 - val_mae: 0.0763\n",
            "Epoch 167/200\n",
            "47/47 [==============================] - 0s 4ms/step - loss: 1.9147e-06 - mae: 5.8452e-04 - val_loss: 0.0640 - val_mae: 0.0772\n",
            "Epoch 168/200\n",
            "47/47 [==============================] - 0s 3ms/step - loss: 1.7407e-06 - mae: 5.7551e-04 - val_loss: 0.0635 - val_mae: 0.0769\n",
            "Epoch 169/200\n",
            "47/47 [==============================] - 0s 4ms/step - loss: 1.6777e-06 - mae: 5.6803e-04 - val_loss: 0.0632 - val_mae: 0.0763\n",
            "Epoch 170/200\n",
            "47/47 [==============================] - 0s 3ms/step - loss: 1.7954e-06 - mae: 5.7675e-04 - val_loss: 0.0637 - val_mae: 0.0768\n",
            "Epoch 171/200\n",
            "47/47 [==============================] - 0s 3ms/step - loss: 1.7502e-06 - mae: 5.7496e-04 - val_loss: 0.0641 - val_mae: 0.0771\n",
            "Epoch 172/200\n",
            "47/47 [==============================] - 0s 3ms/step - loss: 1.7069e-06 - mae: 5.7689e-04 - val_loss: 0.0641 - val_mae: 0.0773\n",
            "Epoch 173/200\n",
            "47/47 [==============================] - 0s 3ms/step - loss: 1.6992e-06 - mae: 5.7070e-04 - val_loss: 0.0637 - val_mae: 0.0770\n",
            "Epoch 174/200\n",
            "47/47 [==============================] - 0s 4ms/step - loss: 1.5854e-06 - mae: 5.5823e-04 - val_loss: 0.0636 - val_mae: 0.0767\n",
            "Epoch 175/200\n",
            "47/47 [==============================] - 0s 3ms/step - loss: 1.6689e-06 - mae: 5.5213e-04 - val_loss: 0.0642 - val_mae: 0.0771\n",
            "Epoch 176/200\n",
            "47/47 [==============================] - 0s 4ms/step - loss: 1.6335e-06 - mae: 5.6751e-04 - val_loss: 0.0641 - val_mae: 0.0772\n",
            "Epoch 177/200\n",
            "47/47 [==============================] - 0s 3ms/step - loss: 1.5685e-06 - mae: 5.5567e-04 - val_loss: 0.0641 - val_mae: 0.0771\n",
            "Epoch 178/200\n",
            "47/47 [==============================] - 0s 3ms/step - loss: 1.5707e-06 - mae: 5.5883e-04 - val_loss: 0.0641 - val_mae: 0.0770\n",
            "Epoch 179/200\n",
            "47/47 [==============================] - 0s 3ms/step - loss: 1.5255e-06 - mae: 5.5494e-04 - val_loss: 0.0636 - val_mae: 0.0766\n",
            "Epoch 180/200\n",
            "47/47 [==============================] - 0s 3ms/step - loss: 1.5404e-06 - mae: 5.4286e-04 - val_loss: 0.0637 - val_mae: 0.0768\n",
            "Epoch 181/200\n",
            "47/47 [==============================] - 0s 3ms/step - loss: 1.5026e-06 - mae: 5.3831e-04 - val_loss: 0.0637 - val_mae: 0.0769\n",
            "Epoch 182/200\n",
            "47/47 [==============================] - 0s 3ms/step - loss: 1.5203e-06 - mae: 5.3193e-04 - val_loss: 0.0642 - val_mae: 0.0773\n",
            "Epoch 183/200\n",
            "47/47 [==============================] - 0s 4ms/step - loss: 1.4010e-06 - mae: 5.3436e-04 - val_loss: 0.0638 - val_mae: 0.0767\n",
            "Epoch 184/200\n",
            "47/47 [==============================] - 0s 4ms/step - loss: 1.5157e-06 - mae: 5.4193e-04 - val_loss: 0.0642 - val_mae: 0.0772\n",
            "Epoch 185/200\n",
            "47/47 [==============================] - 0s 3ms/step - loss: 1.3262e-06 - mae: 5.2141e-04 - val_loss: 0.0637 - val_mae: 0.0766\n",
            "Epoch 186/200\n",
            "47/47 [==============================] - 0s 4ms/step - loss: 1.4625e-06 - mae: 5.3591e-04 - val_loss: 0.0639 - val_mae: 0.0769\n",
            "Epoch 187/200\n",
            "47/47 [==============================] - 0s 3ms/step - loss: 1.3942e-06 - mae: 5.1791e-04 - val_loss: 0.0638 - val_mae: 0.0769\n",
            "Epoch 188/200\n",
            "47/47 [==============================] - 0s 3ms/step - loss: 1.4458e-06 - mae: 5.1490e-04 - val_loss: 0.0644 - val_mae: 0.0774\n",
            "Epoch 189/200\n",
            "47/47 [==============================] - 0s 3ms/step - loss: 1.3837e-06 - mae: 5.2730e-04 - val_loss: 0.0642 - val_mae: 0.0771\n",
            "Epoch 190/200\n",
            "47/47 [==============================] - 0s 3ms/step - loss: 1.3774e-06 - mae: 5.2047e-04 - val_loss: 0.0642 - val_mae: 0.0770\n",
            "Epoch 191/200\n",
            "47/47 [==============================] - 0s 3ms/step - loss: 1.3447e-06 - mae: 5.0820e-04 - val_loss: 0.0643 - val_mae: 0.0773\n",
            "Epoch 192/200\n",
            "47/47 [==============================] - 0s 4ms/step - loss: 1.3413e-06 - mae: 5.2006e-04 - val_loss: 0.0641 - val_mae: 0.0772\n",
            "Epoch 193/200\n",
            "47/47 [==============================] - 0s 4ms/step - loss: 1.3456e-06 - mae: 5.1429e-04 - val_loss: 0.0641 - val_mae: 0.0771\n",
            "Epoch 194/200\n",
            "47/47 [==============================] - 0s 4ms/step - loss: 1.2891e-06 - mae: 5.0845e-04 - val_loss: 0.0637 - val_mae: 0.0767\n",
            "Epoch 195/200\n",
            "47/47 [==============================] - 0s 4ms/step - loss: 1.2471e-06 - mae: 4.8958e-04 - val_loss: 0.0644 - val_mae: 0.0774\n",
            "Epoch 196/200\n",
            "47/47 [==============================] - 0s 5ms/step - loss: 1.2203e-06 - mae: 4.9719e-04 - val_loss: 0.0638 - val_mae: 0.0767\n",
            "Epoch 197/200\n",
            "47/47 [==============================] - 0s 4ms/step - loss: 1.2558e-06 - mae: 4.9432e-04 - val_loss: 0.0639 - val_mae: 0.0767\n",
            "Epoch 198/200\n",
            "47/47 [==============================] - 0s 6ms/step - loss: 1.2898e-06 - mae: 4.9425e-04 - val_loss: 0.0641 - val_mae: 0.0770\n",
            "Epoch 199/200\n",
            "47/47 [==============================] - 0s 5ms/step - loss: 1.2136e-06 - mae: 4.9519e-04 - val_loss: 0.0640 - val_mae: 0.0769\n",
            "Epoch 200/200\n",
            "47/47 [==============================] - 0s 4ms/step - loss: 1.2703e-06 - mae: 4.9101e-04 - val_loss: 0.0642 - val_mae: 0.0771\n"
          ]
        }
      ]
    },
    {
      "cell_type": "markdown",
      "metadata": {
        "id": "NUDPvaJE1wRE"
      },
      "source": [
        "## Verify\n",
        "\n",
        "Graph the models performance vs validation.\n"
      ]
    },
    {
      "cell_type": "markdown",
      "metadata": {
        "id": "kxA0zCOaS35v"
      },
      "source": [
        "### Graph the loss\n",
        "\n",
        "Graph the loss to see when the model stops improving."
      ]
    },
    {
      "cell_type": "code",
      "metadata": {
        "id": "bvFNHXoQzmcM",
        "colab": {
          "base_uri": "https://localhost:8080/",
          "height": 802
        },
        "outputId": "a40822c9-5196-427d-a2e5-e20551171685"
      },
      "source": [
        "# increase the size of the graphs. The default size is (6,4).\n",
        "plt.rcParams[\"figure.figsize\"] = (20,10)\n",
        "\n",
        "# graph the loss, the model above is configure to use \"mean squared error\" as the loss function\n",
        "loss = history.history['loss']\n",
        "val_loss = history.history['val_loss']\n",
        "epochs = range(1, len(loss) + 1)\n",
        "plt.plot(epochs, loss, 'g.', label='Training loss')\n",
        "plt.plot(epochs, val_loss, 'b', label='Validation loss')\n",
        "plt.title('Training and validation loss')\n",
        "plt.xlabel('Epochs')\n",
        "plt.ylabel('Loss')\n",
        "plt.legend()\n",
        "plt.show()\n",
        "\n",
        "print(plt.rcParams[\"figure.figsize\"])"
      ],
      "execution_count": null,
      "outputs": [
        {
          "output_type": "display_data",
          "data": {
            "text/plain": [
              "<Figure size 2000x1000 with 1 Axes>"
            ],
            "image/png": "[encoded data removed]"
          },
          "metadata": {}
        }
      ]
    },
    {
      "cell_type": "markdown",
      "metadata": {
        "id": "DG3m-VpE1zOd"
      },
      "source": [
        "### Graph the loss again, skipping a bit of the start\n",
        "\n",
        "We'll graph the same data as the previous code cell, but start at index 100 so we can further zoom in once the model starts to converge."
      ]
    },
    {
      "cell_type": "code",
      "metadata": {
        "id": "c3xT7ue2zovd",
        "colab": {
          "base_uri": "https://localhost:8080/",
          "height": 820
        },
        "outputId": "ff087dc7-214e-408d-a50f-ee27cb6c5282"
      },
      "source": [
        "# graph the loss again skipping a bit of the start\n",
        "SKIP = 100\n",
        "plt.plot(epochs[SKIP:], loss[SKIP:], 'g.', label='Training loss')\n",
        "plt.plot(epochs[SKIP:], val_loss[SKIP:], 'b.', label='Validation loss')\n",
        "plt.title('Training and validation loss')\n",
        "plt.xlabel('Epochs')\n",
        "plt.ylabel('Loss')\n",
        "plt.legend()\n",
        "plt.show()"
      ],
      "execution_count": null,
      "outputs": [
        {
          "output_type": "stream",
          "name": "stdout",
          "text": [
            "[20.0, 10.0]\n"
          ]
        },
        {
          "output_type": "display_data",
          "data": {
            "text/plain": [
              "<Figure size 2000x1000 with 1 Axes>"
            ],
            "image/png": "[encoded data removed]"
          },
          "metadata": {}
        }
      ]
    },
    {
      "cell_type": "markdown",
      "metadata": {
        "id": "CRjvkFQy2RgS"
      },
      "source": [
        "### Graph the mean absolute error\n",
        "\n",
        "[Mean absolute error](https://en.wikipedia.org/wiki/Mean_absolute_error) is another metric to judge the performance of the model.\n",
        "\n"
      ]
    },
    {
      "cell_type": "code",
      "metadata": {
        "id": "mBjCf1-2zx9C",
        "colab": {
          "base_uri": "https://localhost:8080/",
          "height": 802
        },
        "outputId": "3d75d511-7db3-4a14-f967-c84f206f1545"
      },
      "source": [
        "# graph of mean absolute error\n",
        "mae = history.history['mae']\n",
        "val_mae = history.history['val_mae']\n",
        "plt.plot(epochs[SKIP:], mae[SKIP:], 'g.', label='Training MAE')\n",
        "plt.plot(epochs[SKIP:], val_mae[SKIP:], 'b.', label='Validation MAE')\n",
        "plt.title('Training and validation mean absolute error')\n",
        "plt.xlabel('Epochs')\n",
        "plt.ylabel('MAE')\n",
        "plt.legend()\n",
        "plt.show()\n"
      ],
      "execution_count": null,
      "outputs": [
        {
          "output_type": "display_data",
          "data": {
            "text/plain": [
              "<Figure size 2000x1000 with 1 Axes>"
            ],
            "image/png": "[encoded data removed]"
          },
          "metadata": {}
        }
      ]
    },
    {
      "cell_type": "markdown",
      "metadata": {
        "id": "guMjtfa42ahM"
      },
      "source": [
        "### Run with Test Data\n",
        "Put our test data into the model and plot the predictions\n"
      ]
    },
    {
      "cell_type": "code",
      "metadata": {
        "id": "V3Y0CCWJz2EK",
        "colab": {
          "base_uri": "https://localhost:8080/"
        },
        "outputId": "cac733c6-720e-4432-9950-a048db8b2e32"
      },
      "source": [
        "# use the model to predict the test inputs\n",
        "predictions = model.predict(inputs_test)\n",
        "\n",
        "# print the predictions and the expected ouputs\n",
        "print(\"predictions =\\n\", np.round(predictions, decimals=3))\n",
        "print(\"actual =\\n\", outputs_test)\n",
        "\n",
        "# # Plot the predictions along with to the test data\n",
        "# plt.clf()\n",
        "# plt.title('Training data predicted vs actual values')\n",
        "# #plt.plot(inputs_test, outputs_test, 'b.', label='Actual')\n",
        "# plt.plot(inputs_test, predictions, 'r.', label='Predicted')\n",
        "# plt.show()"
      ],
      "execution_count": null,
      "outputs": [
        {
          "output_type": "stream",
          "name": "stderr",
          "text": [
            "WARNING:tensorflow:5 out of the last 9 calls to <function Model.make_predict_function.<locals>.predict_function at 0x7f8d4260ae60> triggered tf.function retracing. Tracing is expensive and the excessive number of tracings could be due to (1) creating @tf.function repeatedly in a loop, (2) passing tensors with different shapes, (3) passing Python objects instead of tensors. For (1), please define your @tf.function outside of the loop. For (2), @tf.function has reduce_retracing=True option that can avoid unnecessary retracing. For (3), please refer to https://www.tensorflow.org/guide/function#controlling_retracing and https://www.tensorflow.org/api_docs/python/tf/function for  more details.\n"
          ]
        },
        {
          "output_type": "stream",
          "name": "stdout",
          "text": [
            "1/1 [==============================] - 0s 155ms/step\n",
            "predictions =\n",
            " [[0.    0.003 0.989 0.    0.008]\n",
            " [0.    0.001 0.996 0.    0.002]\n",
            " [0.045 0.955 0.    0.    0.   ]\n",
            " [0.    1.    0.    0.    0.   ]\n",
            " [0.999 0.    0.    0.    0.001]\n",
            " [1.    0.    0.    0.    0.   ]\n",
            " [0.    1.    0.    0.    0.   ]\n",
            " [0.    1.    0.    0.    0.   ]\n",
            " [0.    1.    0.    0.    0.   ]\n",
            " [0.999 0.    0.    0.001 0.   ]\n",
            " [0.    0.    0.009 0.    0.991]\n",
            " [0.    0.    0.    0.006 0.994]\n",
            " [0.    0.    0.001 0.    0.998]\n",
            " [0.    1.    0.    0.    0.   ]\n",
            " [0.    0.    0.033 0.    0.967]]\n",
            "actual =\n",
            " [[0. 0. 1. 0. 0.]\n",
            " [0. 0. 1. 0. 0.]\n",
            " [1. 0. 0. 0. 0.]\n",
            " [1. 0. 0. 0. 0.]\n",
            " [1. 0. 0. 0. 0.]\n",
            " [1. 0. 0. 0. 0.]\n",
            " [1. 0. 0. 0. 0.]\n",
            " [0. 1. 0. 0. 0.]\n",
            " [0. 1. 0. 0. 0.]\n",
            " [1. 0. 0. 0. 0.]\n",
            " [0. 0. 0. 0. 1.]\n",
            " [0. 0. 0. 0. 1.]\n",
            " [0. 0. 0. 0. 1.]\n",
            " [0. 1. 0. 0. 0.]\n",
            " [0. 0. 0. 0. 1.]]\n"
          ]
        }
      ]
    },
    {
      "cell_type": "markdown",
      "source": [
        "## Test with new data"
      ],
      "metadata": {
        "id": "MLgeLgsfiHPN"
      }
    },
    {
      "cell_type": "code",
      "source": [
        "test_measure = [22977,\t36106,\t52788,\t71216,\t27235,\t35036,\t10490,\t6381]\n",
        "test_calibrate = [26016,\t46824,\t82300,\t80176,\t42096,\t53390,\t19076,\t13274]\n",
        "\n",
        "#normalize\n",
        "normalized = [0,0,0,0,0,0,0,0]\n",
        "for i in range(len(test_measure)):\n",
        "  normalized[i-1] = test_measure[i-1]/test_calibrate[i-1]\n",
        "\n",
        "#check quality\n",
        "if normalized[0] > TooBright:\n",
        "  print(\"sample too bright\")\n",
        "elif normalized[0] < TooDark:\n",
        "  print(\"sampe too dark\")\n",
        "\n",
        "#snv transform\n",
        "new_list = []\n",
        "mean = np.mean(normalized)\n",
        "std = np.std(normalized)\n",
        "for value in normalized:\n",
        "  new_value = (value - mean) / std\n",
        "  new_list.append(new_value)\n",
        "\n",
        "#predict\n",
        "predictions = model.predict([new_list])\n",
        "print(\"predictions =\\n\", np.round(predictions, decimals=3))"
      ],
      "metadata": {
        "id": "s_6ck9XqJTHR",
        "colab": {
          "base_uri": "https://localhost:8080/"
        },
        "outputId": "2da09cfd-1f88-405a-e694-0d01f4493c77"
      },
      "execution_count": null,
      "outputs": [
        {
          "output_type": "stream",
          "name": "stdout",
          "text": [
            "1/1 [==============================] - 0s 71ms/step\n",
            "predictions =\n",
            " [[0. 1. 0. 0. 0.]]\n"
          ]
        }
      ]
    },
    {
      "cell_type": "code",
      "source": [
        "print(outputs)"
      ],
      "metadata": {
        "colab": {
          "base_uri": "https://localhost:8080/"
        },
        "id": "nHIrJ0rm9kQD",
        "outputId": "a181016e-88c0-4e0e-80e0-55b0989a7225"
      },
      "execution_count": null,
      "outputs": [
        {
          "output_type": "stream",
          "name": "stdout",
          "text": [
            "[[0. 0. 1. 0. 0.]\n",
            " [0. 1. 0. 0. 0.]\n",
            " [0. 1. 0. 0. 0.]\n",
            " [0. 1. 0. 0. 0.]\n",
            " [0. 0. 0. 1. 0.]\n",
            " [0. 0. 1. 0. 0.]\n",
            " [0. 0. 0. 1. 0.]\n",
            " [1. 0. 0. 0. 0.]\n",
            " [0. 1. 0. 0. 0.]\n",
            " [0. 1. 0. 0. 0.]\n",
            " [0. 0. 0. 0. 1.]\n",
            " [1. 0. 0. 0. 0.]\n",
            " [1. 0. 0. 0. 0.]\n",
            " [0. 0. 0. 1. 0.]\n",
            " [0. 1. 0. 0. 0.]\n",
            " [1. 0. 0. 0. 0.]\n",
            " [0. 0. 0. 1. 0.]\n",
            " [0. 0. 0. 0. 1.]\n",
            " [0. 0. 0. 1. 0.]\n",
            " [0. 0. 0. 1. 0.]\n",
            " [1. 0. 0. 0. 0.]\n",
            " [0. 1. 0. 0. 0.]\n",
            " [1. 0. 0. 0. 0.]\n",
            " [1. 0. 0. 0. 0.]\n",
            " [0. 1. 0. 0. 0.]\n",
            " [0. 0. 0. 1. 0.]\n",
            " [0. 0. 0. 0. 1.]\n",
            " [0. 0. 0. 1. 0.]\n",
            " [0. 0. 1. 0. 0.]\n",
            " [0. 0. 1. 0. 0.]\n",
            " [0. 0. 0. 0. 1.]\n",
            " [0. 1. 0. 0. 0.]\n",
            " [0. 0. 1. 0. 0.]\n",
            " [0. 1. 0. 0. 0.]\n",
            " [0. 0. 0. 0. 1.]\n",
            " [0. 0. 1. 0. 0.]\n",
            " [0. 1. 0. 0. 0.]\n",
            " [0. 0. 1. 0. 0.]\n",
            " [0. 0. 0. 1. 0.]\n",
            " [0. 0. 1. 0. 0.]\n",
            " [0. 0. 1. 0. 0.]\n",
            " [0. 1. 0. 0. 0.]\n",
            " [0. 1. 0. 0. 0.]\n",
            " [0. 0. 1. 0. 0.]\n",
            " [0. 0. 0. 0. 1.]\n",
            " [0. 0. 0. 1. 0.]\n",
            " [0. 1. 0. 0. 0.]\n",
            " [0. 0. 1. 0. 0.]\n",
            " [0. 0. 1. 0. 0.]\n",
            " [1. 0. 0. 0. 0.]\n",
            " [1. 0. 0. 0. 0.]\n",
            " [1. 0. 0. 0. 0.]\n",
            " [1. 0. 0. 0. 0.]\n",
            " [1. 0. 0. 0. 0.]\n",
            " [0. 1. 0. 0. 0.]\n",
            " [0. 1. 0. 0. 0.]\n",
            " [1. 0. 0. 0. 0.]\n",
            " [0. 0. 0. 0. 1.]\n",
            " [0. 0. 0. 0. 1.]\n",
            " [0. 0. 0. 0. 1.]\n",
            " [0. 1. 0. 0. 0.]\n",
            " [0. 0. 0. 0. 1.]\n",
            " [0. 1. 0. 0. 0.]\n",
            " [0. 0. 0. 0. 1.]\n",
            " [1. 0. 0. 0. 0.]\n",
            " [0. 1. 0. 0. 0.]\n",
            " [1. 0. 0. 0. 0.]\n",
            " [0. 1. 0. 0. 0.]\n",
            " [1. 0. 0. 0. 0.]\n",
            " [0. 1. 0. 0. 0.]\n",
            " [1. 0. 0. 0. 0.]\n",
            " [0. 0. 1. 0. 0.]\n",
            " [1. 0. 0. 0. 0.]\n",
            " [0. 1. 0. 0. 0.]\n",
            " [1. 0. 0. 0. 0.]\n",
            " [1. 0. 0. 0. 0.]\n",
            " [0. 0. 1. 0. 0.]\n",
            " [0. 0. 0. 1. 0.]\n",
            " [0. 1. 0. 0. 0.]]\n"
          ]
        }
      ]
    },
    {
      "cell_type": "markdown",
      "metadata": {
        "id": "j7DO6xxXVCym"
      },
      "source": [
        "# Convert the Trained Model to Tensor Flow Lite\n",
        "\n",
        "The next cell converts the model to TFlite format. The size in bytes of the model is also printed out."
      ]
    },
    {
      "cell_type": "code",
      "metadata": {
        "id": "0Xn1-Rn9Cp_8",
        "colab": {
          "base_uri": "https://localhost:8080/"
        },
        "outputId": "a6cce0f4-7348-4c18-d0ef-f3ee3bf506aa"
      },
      "source": [
        "# Convert the model to the TensorFlow Lite format without quantization\n",
        "converter = tf.lite.TFLiteConverter.from_keras_model(model)\n",
        "tflite_model = converter.convert()\n",
        "\n",
        "# Save the model to disk\n",
        "open(\"gesture_model.tflite\", \"wb\").write(tflite_model)\n",
        "\n",
        "import os\n",
        "basic_model_size = os.path.getsize(\"gesture_model.tflite\")\n",
        "print(\"Model is %d bytes\" % basic_model_size)\n",
        "\n"
      ],
      "execution_count": null,
      "outputs": [
        {
          "output_type": "stream",
          "name": "stdout",
          "text": [
            "Model is 12684 bytes\n"
          ]
        }
      ]
    },
    {
      "cell_type": "markdown",
      "metadata": {
        "id": "ykccQn7SXrUX"
      },
      "source": [
        "## Encode the Model in an Arduino Header File\n",
        "\n",
        "The next cell creates a constant byte array that contains the TFlite model. Import it as a tab with the sketch below."
      ]
    },
    {
      "cell_type": "code",
      "metadata": {
        "id": "9J33uwpNtAku",
        "colab": {
          "base_uri": "https://localhost:8080/"
        },
        "outputId": "838c0594-801a-418a-e482-02c8a9b4d2fe"
      },
      "source": [
        "!echo \"const unsigned char model[] = {\" > /content/model.h\n",
        "!cat gesture_model.tflite | xxd -i      >> /content/model.h\n",
        "!echo \"};\"                              >> /content/model.h\n",
        "\n",
        "import os\n",
        "model_h_size = os.path.getsize(\"model.h\")\n",
        "print(f\"Header file, model.h, is {model_h_size:,} bytes.\")\n",
        "print(\"\\nOpen the side panel (refresh if needed). Double click model.h to download the file.\")"
      ],
      "execution_count": null,
      "outputs": [
        {
          "output_type": "stream",
          "name": "stdout",
          "text": [
            "Header file, model.h, is 78,252 bytes.\n",
            "\n",
            "Open the side panel (refresh if needed). Double click model.h to download the file.\n"
          ]
        }
      ]
    },
    {
      "cell_type": "code",
      "source": [
        "#https://github.com/arduino/ArduinoTensorFlowLiteTutorials/blob/master/GestureToEmoji/ArduinoSketches/IMU_Classifier/IMU_Classifier.ino"
      ],
      "metadata": {
        "id": "PDH2aWPsfyGq"
      },
      "execution_count": null,
      "outputs": []
    }
  ]
}